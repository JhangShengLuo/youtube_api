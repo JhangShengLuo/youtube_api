{
 "cells": [
  {
   "cell_type": "markdown",
   "metadata": {},
   "source": [
    "# explore youtube api "
   ]
  },
  {
   "cell_type": "markdown",
   "metadata": {
    "collapsed": true
   },
   "source": [
    "### YouTube Data API v3 example "
   ]
  },
  {
   "cell_type": "markdown",
   "metadata": {},
   "source": [
    "https://towardsdatascience.com/tutorial-using-youtubes-annoying-data-api-in-python-part-1-9618beb0e7eam"
   ]
  },
  {
   "cell_type": "markdown",
   "metadata": {},
   "source": [
    "### google api platform "
   ]
  },
  {
   "cell_type": "markdown",
   "metadata": {},
   "source": [
    "https://console.cloud.google.com/apis/api"
   ]
  },
  {
   "cell_type": "code",
   "execution_count": 66,
   "metadata": {
    "collapsed": true
   },
   "outputs": [],
   "source": [
    "from youtube_videos import youtube_search\n",
    "import json\n",
    "import numpy as np\n",
    "import pandas as pd"
   ]
  },
  {
   "cell_type": "code",
   "execution_count": 62,
   "metadata": {
    "collapsed": true
   },
   "outputs": [],
   "source": [
    "desktop = '/Users/jackie/Desktop/'\n",
    "key = np.genfromtxt(desktop+'youtube_api_key_DONT_UPLOAD.txt',dtype='str')\n"
   ]
  },
  {
   "cell_type": "code",
   "execution_count": 63,
   "metadata": {
    "collapsed": true
   },
   "outputs": [],
   "source": [
    "test = youtube_search(\"王剛\",key.tolist())\n"
   ]
  },
  {
   "cell_type": "code",
   "execution_count": 93,
   "metadata": {},
   "outputs": [
    {
     "data": {
      "text/html": [
       "<div>\n",
       "<table border=\"1\" class=\"dataframe\">\n",
       "  <thead>\n",
       "    <tr style=\"text-align: right;\">\n",
       "      <th></th>\n",
       "      <th>etag</th>\n",
       "      <th>id</th>\n",
       "      <th>kind</th>\n",
       "      <th>snippet</th>\n",
       "    </tr>\n",
       "  </thead>\n",
       "  <tbody>\n",
       "    <tr>\n",
       "      <th>channelId</th>\n",
       "      <td>\"XI7nbFXulYBIpL0ayR_gDh3eu1k/mWXTDpXyjUWQIImLx...</td>\n",
       "      <td>NaN</td>\n",
       "      <td>youtube#searchResult</td>\n",
       "      <td>UCg0m_Ah8P_MQbnn77-vYnYw</td>\n",
       "    </tr>\n",
       "    <tr>\n",
       "      <th>channelTitle</th>\n",
       "      <td>\"XI7nbFXulYBIpL0ayR_gDh3eu1k/mWXTDpXyjUWQIImLx...</td>\n",
       "      <td>NaN</td>\n",
       "      <td>youtube#searchResult</td>\n",
       "      <td>美食作家王刚</td>\n",
       "    </tr>\n",
       "    <tr>\n",
       "      <th>description</th>\n",
       "      <td>\"XI7nbFXulYBIpL0ayR_gDh3eu1k/mWXTDpXyjUWQIImLx...</td>\n",
       "      <td>NaN</td>\n",
       "      <td>youtube#searchResult</td>\n",
       "      <td>大家好，我是王刚，也就是你们熟悉的美食作家厨师长。我一直在头条上发布做菜视频，但应网友呼吁也...</td>\n",
       "    </tr>\n",
       "    <tr>\n",
       "      <th>kind</th>\n",
       "      <td>\"XI7nbFXulYBIpL0ayR_gDh3eu1k/mWXTDpXyjUWQIImLx...</td>\n",
       "      <td>youtube#video</td>\n",
       "      <td>youtube#searchResult</td>\n",
       "      <td>NaN</td>\n",
       "    </tr>\n",
       "    <tr>\n",
       "      <th>liveBroadcastContent</th>\n",
       "      <td>\"XI7nbFXulYBIpL0ayR_gDh3eu1k/mWXTDpXyjUWQIImLx...</td>\n",
       "      <td>NaN</td>\n",
       "      <td>youtube#searchResult</td>\n",
       "      <td>none</td>\n",
       "    </tr>\n",
       "    <tr>\n",
       "      <th>publishedAt</th>\n",
       "      <td>\"XI7nbFXulYBIpL0ayR_gDh3eu1k/mWXTDpXyjUWQIImLx...</td>\n",
       "      <td>NaN</td>\n",
       "      <td>youtube#searchResult</td>\n",
       "      <td>2018-10-29T11:36:10.000Z</td>\n",
       "    </tr>\n",
       "    <tr>\n",
       "      <th>thumbnails</th>\n",
       "      <td>\"XI7nbFXulYBIpL0ayR_gDh3eu1k/mWXTDpXyjUWQIImLx...</td>\n",
       "      <td>NaN</td>\n",
       "      <td>youtube#searchResult</td>\n",
       "      <td>{'default': {'url': 'https://i.ytimg.com/vi/8G...</td>\n",
       "    </tr>\n",
       "    <tr>\n",
       "      <th>title</th>\n",
       "      <td>\"XI7nbFXulYBIpL0ayR_gDh3eu1k/mWXTDpXyjUWQIImLx...</td>\n",
       "      <td>NaN</td>\n",
       "      <td>youtube#searchResult</td>\n",
       "      <td>厨师长教你：“香辣牛肉酱”的完美做法，拌面拌饭神器！可以吃到粒粒牛肉，果断学习起来</td>\n",
       "    </tr>\n",
       "    <tr>\n",
       "      <th>videoId</th>\n",
       "      <td>\"XI7nbFXulYBIpL0ayR_gDh3eu1k/mWXTDpXyjUWQIImLx...</td>\n",
       "      <td>8GEy6v-yuts</td>\n",
       "      <td>youtube#searchResult</td>\n",
       "      <td>NaN</td>\n",
       "    </tr>\n",
       "  </tbody>\n",
       "</table>\n",
       "</div>"
      ],
      "text/plain": [
       "                                                                   etag  \\\n",
       "channelId             \"XI7nbFXulYBIpL0ayR_gDh3eu1k/mWXTDpXyjUWQIImLx...   \n",
       "channelTitle          \"XI7nbFXulYBIpL0ayR_gDh3eu1k/mWXTDpXyjUWQIImLx...   \n",
       "description           \"XI7nbFXulYBIpL0ayR_gDh3eu1k/mWXTDpXyjUWQIImLx...   \n",
       "kind                  \"XI7nbFXulYBIpL0ayR_gDh3eu1k/mWXTDpXyjUWQIImLx...   \n",
       "liveBroadcastContent  \"XI7nbFXulYBIpL0ayR_gDh3eu1k/mWXTDpXyjUWQIImLx...   \n",
       "publishedAt           \"XI7nbFXulYBIpL0ayR_gDh3eu1k/mWXTDpXyjUWQIImLx...   \n",
       "thumbnails            \"XI7nbFXulYBIpL0ayR_gDh3eu1k/mWXTDpXyjUWQIImLx...   \n",
       "title                 \"XI7nbFXulYBIpL0ayR_gDh3eu1k/mWXTDpXyjUWQIImLx...   \n",
       "videoId               \"XI7nbFXulYBIpL0ayR_gDh3eu1k/mWXTDpXyjUWQIImLx...   \n",
       "\n",
       "                                 id                  kind  \\\n",
       "channelId                       NaN  youtube#searchResult   \n",
       "channelTitle                    NaN  youtube#searchResult   \n",
       "description                     NaN  youtube#searchResult   \n",
       "kind                  youtube#video  youtube#searchResult   \n",
       "liveBroadcastContent            NaN  youtube#searchResult   \n",
       "publishedAt                     NaN  youtube#searchResult   \n",
       "thumbnails                      NaN  youtube#searchResult   \n",
       "title                           NaN  youtube#searchResult   \n",
       "videoId                 8GEy6v-yuts  youtube#searchResult   \n",
       "\n",
       "                                                                snippet  \n",
       "channelId                                      UCg0m_Ah8P_MQbnn77-vYnYw  \n",
       "channelTitle                                                     美食作家王刚  \n",
       "description           大家好，我是王刚，也就是你们熟悉的美食作家厨师长。我一直在头条上发布做菜视频，但应网友呼吁也...  \n",
       "kind                                                                NaN  \n",
       "liveBroadcastContent                                               none  \n",
       "publishedAt                                    2018-10-29T11:36:10.000Z  \n",
       "thumbnails            {'default': {'url': 'https://i.ytimg.com/vi/8G...  \n",
       "title                         厨师长教你：“香辣牛肉酱”的完美做法，拌面拌饭神器！可以吃到粒粒牛肉，果断学习起来  \n",
       "videoId                                                             NaN  "
      ]
     },
     "execution_count": 93,
     "metadata": {},
     "output_type": "execute_result"
    }
   ],
   "source": [
    "pd.DataFrame.from_dict(test[1][0])"
   ]
  },
  {
   "cell_type": "code",
   "execution_count": null,
   "metadata": {
    "collapsed": true
   },
   "outputs": [],
   "source": []
  }
 ],
 "metadata": {
  "kernelspec": {
   "display_name": "Python 3",
   "language": "python",
   "name": "python3"
  },
  "language_info": {
   "codemirror_mode": {
    "name": "ipython",
    "version": 3
   },
   "file_extension": ".py",
   "mimetype": "text/x-python",
   "name": "python",
   "nbconvert_exporter": "python",
   "pygments_lexer": "ipython3",
   "version": "3.6.1"
  },
  "toc": {
   "base_numbering": 1,
   "nav_menu": {},
   "number_sections": true,
   "sideBar": true,
   "skip_h1_title": false,
   "title_cell": "Table of Contents",
   "title_sidebar": "Contents",
   "toc_cell": false,
   "toc_position": {},
   "toc_section_display": true,
   "toc_window_display": true
  }
 },
 "nbformat": 4,
 "nbformat_minor": 2
}
