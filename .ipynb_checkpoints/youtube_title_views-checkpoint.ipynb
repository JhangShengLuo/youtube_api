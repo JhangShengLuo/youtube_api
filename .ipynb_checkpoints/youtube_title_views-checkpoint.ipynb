{
 "cells": [
  {
   "cell_type": "markdown",
   "metadata": {},
   "source": [
    "# explore youtube api "
   ]
  },
  {
   "cell_type": "markdown",
   "metadata": {
    "collapsed": true
   },
   "source": [
    "### YouTube Data API v3 example "
   ]
  },
  {
   "cell_type": "markdown",
   "metadata": {},
   "source": [
    "https://towardsdatascience.com/tutorial-using-youtubes-annoying-data-api-in-python-part-1-9618beb0e7eam"
   ]
  },
  {
   "cell_type": "markdown",
   "metadata": {},
   "source": [
    "### google api platform "
   ]
  },
  {
   "cell_type": "markdown",
   "metadata": {},
   "source": [
    "https://console.cloud.google.com/apis/api"
   ]
  },
  {
   "cell_type": "code",
   "execution_count": 43,
   "metadata": {
    "ExecuteTime": {
     "end_time": "2018-11-01T13:32:45.172411Z",
     "start_time": "2018-11-01T13:32:45.166703Z"
    },
    "collapsed": true
   },
   "outputs": [],
   "source": [
    "from youtube_videos import youtube_search,geo_query\n",
    "import json\n",
    "import numpy as np\n",
    "import pandas as pd"
   ]
  },
  {
   "cell_type": "code",
   "execution_count": 23,
   "metadata": {
    "ExecuteTime": {
     "end_time": "2018-11-01T13:13:11.510249Z",
     "start_time": "2018-11-01T13:13:11.503889Z"
    },
    "collapsed": true
   },
   "outputs": [],
   "source": [
    "desktop = '/Users/jackie/Desktop/'\n",
    "key = np.genfromtxt(desktop+'youtube_api_key_DONT_UPLOAD.txt',dtype='str')\n"
   ]
  },
  {
   "cell_type": "code",
   "execution_count": 24,
   "metadata": {
    "ExecuteTime": {
     "end_time": "2018-11-01T13:13:13.809305Z",
     "start_time": "2018-11-01T13:13:13.193837Z"
    },
    "collapsed": true
   },
   "outputs": [],
   "source": [
    "test = youtube_search(\"王剛\",key.tolist())\n"
   ]
  },
  {
   "cell_type": "markdown",
   "metadata": {},
   "source": [
    "### statics: views..."
   ]
  },
  {
   "cell_type": "markdown",
   "metadata": {},
   "source": [
    "https://stackoverflow.com/questions/48253741/youtube-api-v3-and-python-to-generate-list-of-views-likes-on-own-youtube-videos/48475541#48475541"
   ]
  },
  {
   "cell_type": "code",
   "execution_count": 46,
   "metadata": {
    "ExecuteTime": {
     "end_time": "2018-11-01T13:33:19.682684Z",
     "start_time": "2018-11-01T13:33:19.676782Z"
    }
   },
   "outputs": [],
   "source": [
    "df1= pd.DataFrame.from_dict(test[1][6])"
   ]
  },
  {
   "cell_type": "code",
   "execution_count": 56,
   "metadata": {
    "ExecuteTime": {
     "end_time": "2018-11-01T13:39:22.496880Z",
     "start_time": "2018-11-01T13:39:22.219937Z"
    }
   },
   "outputs": [
    {
     "data": {
      "text/plain": [
       "{'etag': '\"XI7nbFXulYBIpL0ayR_gDh3eu1k/XusJV-1Os2cQBRZWEVGeZQV4LoU\"',\n",
       " 'items': [{'etag': '\"XI7nbFXulYBIpL0ayR_gDh3eu1k/jAhYRdR5tvyn9Tto1tnj-9iSqf4\"',\n",
       "   'id': '6kF2vbnpfEI',\n",
       "   'kind': 'youtube#video',\n",
       "   'snippet': {'categoryId': '22',\n",
       "    'channelId': 'UCg0m_Ah8P_MQbnn77-vYnYw',\n",
       "    'channelTitle': '美食作家王刚',\n",
       "    'defaultAudioLanguage': 'zh-CN',\n",
       "    'defaultLanguage': 'zh-Hans',\n",
       "    'description': '今天带大家去看看火哥的工作室，多交流才能进步，视频中看到的香肠就是我们四川特色的麻辣香肠特别好吃，我在之前的视频中有介绍如何制作，附上链接：https://www.youtube.com/watch?v=_aeVmkcspAM&t=68s 第二道糖醋排骨为传统熬制做法，我之前也有介绍过，附上链接：https://www.youtube.com/watch?v=xPkN3tugpCQ&t=74s 如果喜欢酥脆的糖醋排骨，也可以看我的糖醋排骨第二种做法，附上链接：https://www.youtube.com/watch?v=cgSM91WjyuY 第三道小酥肉在冬瓜酥肉汤的视频中有介绍，附上链接：https://www.youtube.com/watch?v=fDfNvWwRGb4&t=4s 最后两道菜之后有机会给大家介绍做法，希望大家希望这期视频~\\n\\n大家好，我是王刚，也就是你们熟悉的美食作家厨师长。我一直在头条上发布做菜视频，但应网友呼吁也来到了YouTube，真心希望视频可以帮到大家。我会坚持做菜，坚持教大家做菜。也希望大家来订阅我的YouTube官方频道，欢迎大家点赞、分享和评论。在西瓜视频，头条和微博上也有我相同名字的账户“美食作家王刚”，微信公众号为“厨王刚丝球”，谢谢大家支持！',\n",
       "    'liveBroadcastContent': 'none',\n",
       "    'localized': {'description': '今天带大家去看看火哥的工作室，多交流才能进步，视频中看到的香肠就是我们四川特色的麻辣香肠特别好吃，我在之前的视频中有介绍如何制作，附上链接：https://www.youtube.com/watch?v=_aeVmkcspAM&t=68s 第二道糖醋排骨为传统熬制做法，我之前也有介绍过，附上链接：https://www.youtube.com/watch?v=xPkN3tugpCQ&t=74s 如果喜欢酥脆的糖醋排骨，也可以看我的糖醋排骨第二种做法，附上链接：https://www.youtube.com/watch?v=cgSM91WjyuY 第三道小酥肉在冬瓜酥肉汤的视频中有介绍，附上链接：https://www.youtube.com/watch?v=fDfNvWwRGb4&t=4s 最后两道菜之后有机会给大家介绍做法，希望大家希望这期视频~\\n\\n大家好，我是王刚，也就是你们熟悉的美食作家厨师长。我一直在头条上发布做菜视频，但应网友呼吁也来到了YouTube，真心希望视频可以帮到大家。我会坚持做菜，坚持教大家做菜。也希望大家来订阅我的YouTube官方频道，欢迎大家点赞、分享和评论。在西瓜视频，头条和微博上也有我相同名字的账户“美食作家王刚”，微信公众号为“厨王刚丝球”，谢谢大家支持！',\n",
       "     'title': 'Vlog010 王刚带大家去看另一个川菜名厨火哥的工作室，用一桌子好菜来交流技术，巴适得板'},\n",
       "    'publishedAt': '2018-11-01T11:31:59.000Z',\n",
       "    'tags': ['美食',\n",
       "     '原创',\n",
       "     '厨师长',\n",
       "     '美食作家',\n",
       "     '做菜',\n",
       "     '烹饪',\n",
       "     '火哥',\n",
       "     '火筵家常',\n",
       "     '火筵',\n",
       "     '家常菜',\n",
       "     '家常菜做法',\n",
       "     'vlog',\n",
       "     '刚哥',\n",
       "     'chinese food',\n",
       "     'cooking',\n",
       "     '一学就会',\n",
       "     '中国味道',\n",
       "     '厨师长教做菜',\n",
       "     '厨师长王刚',\n",
       "     '四川',\n",
       "     '四川菜',\n",
       "     '天天饮食',\n",
       "     '家常做法',\n",
       "     '小吃',\n",
       "     '川菜',\n",
       "     '正宗做法',\n",
       "     '王刚做菜',\n",
       "     '生活',\n",
       "     '简单易学',\n",
       "     '经典',\n",
       "     '经典味道',\n",
       "     '美味',\n",
       "     '美食作家王刚',\n",
       "     '自制',\n",
       "     '自学',\n",
       "     '菜谱',\n",
       "     '详细做法',\n",
       "     '鲜香',\n",
       "     '麻辣',\n",
       "     '王刚 视频'],\n",
       "    'thumbnails': {'default': {'height': 90,\n",
       "      'url': 'https://i.ytimg.com/vi/6kF2vbnpfEI/default.jpg',\n",
       "      'width': 120},\n",
       "     'high': {'height': 360,\n",
       "      'url': 'https://i.ytimg.com/vi/6kF2vbnpfEI/hqdefault.jpg',\n",
       "      'width': 480},\n",
       "     'maxres': {'height': 720,\n",
       "      'url': 'https://i.ytimg.com/vi/6kF2vbnpfEI/maxresdefault.jpg',\n",
       "      'width': 1280},\n",
       "     'medium': {'height': 180,\n",
       "      'url': 'https://i.ytimg.com/vi/6kF2vbnpfEI/mqdefault.jpg',\n",
       "      'width': 320},\n",
       "     'standard': {'height': 480,\n",
       "      'url': 'https://i.ytimg.com/vi/6kF2vbnpfEI/sddefault.jpg',\n",
       "      'width': 640}},\n",
       "    'title': 'Vlog010 王刚带大家去看另一个川菜名厨火哥的工作室，用一桌子好菜来交流技术，巴适得板'},\n",
       "   'statistics': {'commentCount': '163',\n",
       "    'dislikeCount': '10',\n",
       "    'favoriteCount': '0',\n",
       "    'likeCount': '379',\n",
       "    'viewCount': '3888'}}],\n",
       " 'kind': 'youtube#videoListResponse',\n",
       " 'pageInfo': {'resultsPerPage': 1, 'totalResults': 1}}"
      ]
     },
     "execution_count": 56,
     "metadata": {},
     "output_type": "execute_result"
    }
   ],
   "source": [
    "geo_query(tid,key.tolist())"
   ]
  },
  {
   "cell_type": "code",
   "execution_count": null,
   "metadata": {
    "collapsed": true
   },
   "outputs": [],
   "source": []
  },
  {
   "cell_type": "code",
   "execution_count": null,
   "metadata": {
    "collapsed": true
   },
   "outputs": [],
   "source": []
  }
 ],
 "metadata": {
  "kernelspec": {
   "display_name": "Python 3",
   "language": "python",
   "name": "python3"
  },
  "language_info": {
   "codemirror_mode": {
    "name": "ipython",
    "version": 3
   },
   "file_extension": ".py",
   "mimetype": "text/x-python",
   "name": "python",
   "nbconvert_exporter": "python",
   "pygments_lexer": "ipython3",
   "version": "3.6.1"
  },
  "toc": {
   "base_numbering": 1,
   "nav_menu": {},
   "number_sections": true,
   "sideBar": true,
   "skip_h1_title": false,
   "title_cell": "Table of Contents",
   "title_sidebar": "Contents",
   "toc_cell": false,
   "toc_position": {
    "height": "calc(100% - 180px)",
    "left": "10px",
    "top": "150px",
    "width": "165px"
   },
   "toc_section_display": true,
   "toc_window_display": false
  }
 },
 "nbformat": 4,
 "nbformat_minor": 2
}
